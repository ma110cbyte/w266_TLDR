{
  "cells": [
    {
      "cell_type": "code",
      "execution_count": 2,
      "metadata": {
        "id": "rrYVMg6ji6LQ"
      },
      "outputs": [
        {
          "name": "stderr",
          "output_type": "stream",
          "text": [
            "/Users/andyguinto/anaconda3/envs/py311/lib/python3.11/site-packages/tqdm/auto.py:21: TqdmWarning: IProgress not found. Please update jupyter and ipywidgets. See https://ipywidgets.readthedocs.io/en/stable/user_install.html\n",
            "  from .autonotebook import tqdm as notebook_tqdm\n"
          ]
        }
      ],
      "source": [
        "import pandas as pd\n",
        "import pickle\n",
        "import matplotlib.pyplot as plt\n",
        "import numpy as np\n",
        "\n",
        "from transformers import (\n",
        "    T5Tokenizer,\n",
        "    # TFT5ForConditionalGeneration,\n",
        "    PegasusTokenizer,\n",
        "    # TFPegasusForConditionalGeneration,\n",
        ")"
      ]
    },
    {
      "cell_type": "code",
      "execution_count": 3,
      "metadata": {
        "id": "vVOCnNd7i6LT"
      },
      "outputs": [],
      "source": [
        "with open('train_test_split.pkl', 'rb') as file:\n",
        "    X_train, X_val, X_test, y_train, y_val, y_test = pickle.load(file)"
      ]
    },
    {
      "cell_type": "code",
      "execution_count": 4,
      "metadata": {
        "colab": {
          "base_uri": "https://localhost:8080/"
        },
        "id": "GDZfIwAKi6LT",
        "outputId": "8ffc9ef7-98e1-45fc-dc80-fe958b8d96ca"
      },
      "outputs": [],
      "source": [
        "# # Load the T5 tokenizer.\n",
        "# t5_model_name = 't5-base'\n",
        "# t5_tokenizer = T5Tokenizer.from_pretrained(t5_model_name)\n",
        "\n",
        "# # Load the PEGASUS tokenizer.\n",
        "# pegasus_model_name = 'google/pegasus-xsum'\n",
        "# pegasus_tokenizer = PegasusTokenizer.from_pretrained(pegasus_model_name)\n",
        "\n",
        "# t5_tokenizer.save_pretrained(\"/content/drive/MyDrive/t5_default_tokenizer/\")\n",
        "# pegasus_tokenizer.save_pretrained(\"/content/drive/MyDrive/pegasus_default_tokenizer\")\n",
        "\n",
        "# t5_tokenizer = T5Tokenizer.from_pretrained(\"t5_default_tokenizer\")\n",
        "# pegasus_tokenizer = PegasusTokenizer.from_pretrained(\"pegasus_default_tokenizer\")"
      ]
    },
    {
      "cell_type": "code",
      "execution_count": 5,
      "metadata": {
        "id": "V4amfUnHi6LT"
      },
      "outputs": [],
      "source": [
        "def get_token_counts(input_text, tokenizer):\n",
        "  return len(tokenizer.encode(input_text))\n",
        "\n",
        "def get_percentile(token_count_list, percentile):\n",
        "  series = pd.Series(token_count_list)\n",
        "  return series.quantile(percentile)"
      ]
    },
    {
      "cell_type": "code",
      "execution_count": 6,
      "metadata": {
        "colab": {
          "base_uri": "https://localhost:8080/"
        },
        "id": "vSHeSKw9i6LU",
        "outputId": "c5a116be-7384-44e0-87ce-62fd2f8d7751"
      },
      "outputs": [],
      "source": [
        "# subset_size = 10000\n",
        "\n",
        "# # T5 - Train\n",
        "# t5_train_input_lengths = [get_token_counts(input_text, t5_tokenizer) for input_text in X_train[:subset_size]]\n",
        "# t5_train_summary_lengths = [get_token_counts(summary, t5_tokenizer) for summary in y_train[:subset_size]]\n",
        "# print(f\"T5 Train input lengths: {t5_train_input_lengths}\")\n",
        "# print(f\"T5 Train summary lengths: {t5_train_summary_lengths}\")\n",
        "# print(\"\\n\")\n",
        "\n",
        "# # T5 - Val\n",
        "# t5_val_input_lengths = [get_token_counts(input_text, t5_tokenizer) for input_text in X_val[:subset_size]]\n",
        "# t5_val_summary_lengths = [get_token_counts(summary, t5_tokenizer) for summary in y_val[:subset_size]]\n",
        "# print(f\"T5 Val input lengths: {t5_val_input_lengths}\")\n",
        "# print(f\"T5 Val summary lengths: {t5_val_summary_lengths}\")\n",
        "# print(\"\\n\")\n",
        "\n",
        "# # T5 - Test\n",
        "# t5_test_input_lengths = [get_token_counts(input_text, t5_tokenizer) for input_text in X_test[:subset_size]]\n",
        "# t5_test_summary_lengths = [get_token_counts(summary, t5_tokenizer) for summary in y_test[:subset_size]]\n",
        "# print(f\"T5 Test input lengths: {t5_test_input_lengths}\")\n",
        "# print(f\"T5 Test summary lengths: {t5_test_summary_lengths}\")\n",
        "# print(\"\\n\")\n",
        "\n",
        "# # PEGASUS - Train\n",
        "# pegasus_train_input_lengths = [get_token_counts(input_text, pegasus_tokenizer) for input_text in X_train[:subset_size]]\n",
        "# pegasus_train_summary_lengths = [get_token_counts(summary, pegasus_tokenizer) for summary in y_train[:subset_size]]\n",
        "# print(f\"PEGASUS Train input lengths: {pegasus_train_input_lengths}\")\n",
        "# print(f\"PEGASUS Train summary lengths: {pegasus_train_summary_lengths}\")\n",
        "# print(\"\\n\")\n",
        "\n",
        "# # PEGASUS - Val\n",
        "# pegasus_val_input_lengths = [get_token_counts(input_text, pegasus_tokenizer) for input_text in X_val[:subset_size]]\n",
        "# pegasus_val_summary_lengths = [get_token_counts(summary, pegasus_tokenizer) for summary in y_val[:subset_size]]\n",
        "# print(f\"PEGASUS Val input lengths: {pegasus_val_input_lengths}\")\n",
        "# print(f\"PEGASUS Val summary lengths: {pegasus_val_summary_lengths}\")\n",
        "# print(\"\\n\")\n",
        "\n",
        "# # PEGASUS - Test\n",
        "# pegasus_test_input_lengths = [get_token_counts(input_text, pegasus_tokenizer) for input_text in X_test[:subset_size]]\n",
        "# pegasus_test_summary_lengths = [get_token_counts(summary, pegasus_tokenizer) for summary in y_test[:subset_size]]\n",
        "# print(f\"PEGASUS Test input lengths: {pegasus_test_input_lengths}\")\n",
        "# print(f\"PEGASUS Test summary lengths: {pegasus_test_summary_lengths}\")"
      ]
    },
    {
      "cell_type": "code",
      "execution_count": 7,
      "metadata": {},
      "outputs": [],
      "source": [
        "percentile = 0.95\n",
        "\n",
        "with open('t5_token_lengths.pkl', 'rb') as f:\n",
        "    t5_token_lengths = pickle.load(f)\n",
        "\n",
        "with open('pegasus_token_lengths.pkl', 'rb') as f:\n",
        "    pegasus_token_lengths = pickle.load(f)"
      ]
    },
    {
      "cell_type": "code",
      "execution_count": 8,
      "metadata": {},
      "outputs": [
        {
          "name": "stdout",
          "output_type": "stream",
          "text": [
            "T5 Train Input 0.95th Percentile: [np.float64(1046.0)]\n",
            "T5 Train Summary 0.95th Percentile: 104.0\n",
            "\n",
            "\n",
            "T5 Val Input 0.95th Percentile: 1044.0\n",
            "T5 Val Summary 0.95th Percentile: 103.0\n",
            "\n",
            "\n",
            "T5 Test Input 0.95th Percentile: 1044.0\n",
            "T5 Test Summary 0.95th Percentile: 103.0\n",
            "\n",
            "\n",
            "PEGASUS Train Input 0.95th Percentile: 945.0\n",
            "PEGASUS Train Summary 0.95th Percentile: 93.0\n",
            "\n",
            "\n",
            "PEGASUS Val Input 0.95th Percentile: 943.0\n",
            "PEGASUS Val Summary 0.95th Percentile: 93.0\n",
            "\n",
            "\n",
            "PEGASUS Test Input 0.95th Percentile: 944.0\n",
            "PEGASUS Test Summary 0.95th Percentile: 92.0\n"
          ]
        }
      ],
      "source": [
        "t5_train_input_percentile = get_percentile(t5_token_lengths['t5_train_input_lengths'], percentile)\n",
        "t5_train_summary_percentile = get_percentile(t5_token_lengths['t5_train_summary_lengths'], percentile)\n",
        "print(f\"T5 Train Input {percentile}th Percentile: {[t5_train_input_percentile]}\")\n",
        "print(f\"T5 Train Summary {percentile}th Percentile: {t5_train_summary_percentile}\")\n",
        "print(\"\\n\")\n",
        "\n",
        "# T5 - Val\n",
        "t5_val_input_percentile = get_percentile(t5_token_lengths['t5_val_input_lengths'], percentile)\n",
        "t5_val_summary_percentile = get_percentile(t5_token_lengths['t5_val_summary_lengths'], percentile)\n",
        "print(f\"T5 Val Input {percentile}th Percentile: {t5_val_input_percentile}\")\n",
        "print(f\"T5 Val Summary {percentile}th Percentile: {t5_val_summary_percentile}\")\n",
        "print(\"\\n\")\n",
        "\n",
        "# T5 - Test\n",
        "t5_test_input_percentile = get_percentile(t5_token_lengths['t5_test_input_lengths'], percentile)\n",
        "t5_test_summary_percentile = get_percentile(t5_token_lengths['t5_test_summary_lengths'], percentile)\n",
        "print(f\"T5 Test Input {percentile}th Percentile: {t5_test_input_percentile}\")\n",
        "print(f\"T5 Test Summary {percentile}th Percentile: {t5_test_summary_percentile}\")\n",
        "print(\"\\n\")\n",
        "\n",
        "# PEGASUS - Train\n",
        "pegasus_train_input_percentile = get_percentile(pegasus_token_lengths['pegasus_train_input_lengths'], percentile)\n",
        "pegasus_train_summary_percentile = get_percentile(pegasus_token_lengths['pegasus_train_summary_lengths'], percentile)\n",
        "print(f\"PEGASUS Train Input {percentile}th Percentile: {pegasus_train_input_percentile}\")\n",
        "print(f\"PEGASUS Train Summary {percentile}th Percentile: {pegasus_train_summary_percentile}\")\n",
        "print(\"\\n\")\n",
        "\n",
        "# PEGASUS - Val\n",
        "pegasus_val_input_percentile = get_percentile(pegasus_token_lengths['pegasus_val_input_lengths'], percentile)\n",
        "pegasus_val_summary_percentile = get_percentile(pegasus_token_lengths['pegasus_val_summary_lengths'], percentile)\n",
        "print(f\"PEGASUS Val Input {percentile}th Percentile: {pegasus_val_input_percentile}\")\n",
        "print(f\"PEGASUS Val Summary {percentile}th Percentile: {pegasus_val_summary_percentile}\")\n",
        "print(\"\\n\")\n",
        "\n",
        "# PEGASUS - Test\n",
        "pegasus_test_input_percentile = get_percentile(pegasus_token_lengths['pegasus_test_input_lengths'], percentile)\n",
        "pegasus_test_summary_percentile = get_percentile(pegasus_token_lengths['pegasus_test_summary_lengths'], percentile)\n",
        "print(f\"PEGASUS Test Input {percentile}th Percentile: {pegasus_test_input_percentile}\")\n",
        "print(f\"PEGASUS Test Summary {percentile}th Percentile: {pegasus_test_summary_percentile}\")"
      ]
    },
    {
      "cell_type": "code",
      "execution_count": 17,
      "metadata": {},
      "outputs": [
        {
          "name": "stdout",
          "output_type": "stream",
          "text": [
            "{'T5': 1046, 'PEGASUS': 945}\n",
            "{'T5': 1044, 'PEGASUS': 943}\n",
            "{'T5': 1044, 'PEGASUS': 944}\n"
          ]
        }
      ],
      "source": [
        "train_inputs = {\n",
        "    \"T5\": int(t5_train_input_percentile),\n",
        "    \"PEGASUS\":int(pegasus_train_input_percentile)\n",
        "}\n",
        "\n",
        "train_summaries = {\n",
        "    \"T5\": int(t5_train_summary_percentile),\n",
        "    \"PEGASUS\":int(pegasus_train_summary_percentile)\n",
        "}\n",
        "\n",
        "val_inputs = {\n",
        "    \"T5\": int(t5_val_input_percentile),\n",
        "    \"PEGASUS\":int(pegasus_val_input_percentile)\n",
        "}\n",
        "\n",
        "val_summaries = {\n",
        "    \"T5\": int(t5_val_summary_percentile),\n",
        "    \"PEGASUS\":int(pegasus_val_summary_percentile)\n",
        "}\n",
        "\n",
        "test_inputs = {\n",
        "    \"T5\": int(t5_test_input_percentile),\n",
        "    \"PEGASUS\":int(pegasus_test_input_percentile)\n",
        "}\n",
        "\n",
        "test_summaries = {\n",
        "    \"T5\": int(t5_test_summary_percentile),\n",
        "    \"PEGASUS\":int(pegasus_test_summary_percentile)\n",
        "}\n",
        "\n",
        "print(train_inputs)\n",
        "print(val_inputs)\n",
        "print(test_inputs)"
      ]
    },
    {
      "cell_type": "code",
      "execution_count": 60,
      "metadata": {},
      "outputs": [],
      "source": [
        "inputs_df = pd.DataFrame({\n",
        "    \"Train Inputs\": train_inputs,\n",
        "    \"Val Inputs\": val_inputs,\n",
        "    \"Test Inputs\": test_inputs,\n",
        "}).T\n",
        "\n",
        "summaries_df = pd.DataFrame({\n",
        "    \"Train Summaries\": train_summaries,\n",
        "    \"Val Summaries\": val_summaries,\n",
        "    \"Test Summaries\": test_summaries,\n",
        "}).T"
      ]
    },
    {
      "cell_type": "code",
      "execution_count": 108,
      "metadata": {},
      "outputs": [
        {
          "data": {
            "image/png": "[encoded data removed]",
            "text/plain": [
              "<Figure size 1500x600 with 2 Axes>"
            ]
          },
          "metadata": {},
          "output_type": "display_data"
        }
      ],
      "source": [
        "# Create subplots\n",
        "fig, axes = plt.subplots(1, 2, figsize=(15, 6), sharex=False, sharey=True)\n",
        "\n",
        "# Plot\n",
        "inputs_df.plot(kind='bar', ax=axes[0])\n",
        "summaries_df.plot(kind='bar', ax=axes[1])\n",
        "\n",
        "# Set Titles\n",
        "axes[0].set_title(\"Input Text\", fontsize=18)\n",
        "axes[1].set_title(\"Summaries\", fontsize=18)\n",
        "\n",
        "# Set Mutual labels\n",
        "for ax in axes:\n",
        "    ax.set_ylabel(\"Num Tokens\", fontsize=14)\n",
        "    ax.tick_params(axis='x', rotation=0, labelsize=14)\n",
        "    ax.set_yticks(np.arange(0, 1200, 100))\n",
        "    ax.grid(linestyle='solid', linewidth=0.5, alpha=0.7)\n",
        "# Set custom ticks for Summaries plot\n",
        "# plt.ylabel(\"Num Tokens\")\n",
        "# plt.xticks(rotation=0, fontsize=12)\n",
        "fig.suptitle(\"Tokenizers - 95th Percentile\", fontsize=24, fontweight='bold')\n",
        "plt.tight_layout()\n",
        "plt.show()\n",
        "\n"
      ]
    },
    {
      "cell_type": "code",
      "execution_count": null,
      "metadata": {},
      "outputs": [],
      "source": []
    }
  ],
  "metadata": {
    "colab": {
      "provenance": []
    },
    "kernelspec": {
      "display_name": "py311",
      "language": "python",
      "name": "python3"
    },
    "language_info": {
      "codemirror_mode": {
        "name": "ipython",
        "version": 3
      },
      "file_extension": ".py",
      "mimetype": "text/x-python",
      "name": "python",
      "nbconvert_exporter": "python",
      "pygments_lexer": "ipython3",
      "version": "3.11.9"
    }
  },
  "nbformat": 4,
  "nbformat_minor": 0
}
